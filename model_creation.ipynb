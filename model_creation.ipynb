{
 "cells": [
  {
   "cell_type": "markdown",
   "metadata": {},
   "source": [
    "# Crop Recommendation System\n",
    "Author:'Najaf-Ali'"
   ]
  },
  {
   "cell_type": "markdown",
   "metadata": {},
   "source": [
    "## importing all required libraries"
   ]
  },
  {
   "cell_type": "code",
   "execution_count": 2,
   "metadata": {},
   "outputs": [],
   "source": [
    "import pandas as pd\n",
    "import numpy as np\n",
    "import matplotlib.pyplot as plt\n",
    "import plotly.express as px\n",
    "import seaborn as sns\n",
    "from sklearn.preprocessing import RobustScaler\n",
    "from sklearn.model_selection import train_test_split,cross_val_score\n",
    "from sklearn.linear_model import LogisticRegression\n",
    "from sklearn.tree import DecisionTreeClassifier\n",
    "from sklearn.ensemble import RandomForestClassifier\n",
    "from sklearn.svm import SVC\n",
    "from xgboost import XGBClassifier\n",
    "from catboost import CatBoostClassifier\n",
    "from sklearn.naive_bayes import GaussianNB\n",
    "from sklearn.metrics import classification_report,confusion_matrix,accuracy_score\n",
    "\n"
   ]
  },
  {
   "cell_type": "markdown",
   "metadata": {},
   "source": [
    "## Loading the dataset\n"
   ]
  },
  {
   "cell_type": "code",
   "execution_count": null,
   "metadata": {},
   "outputs": [],
   "source": [
    "data=pd.read_csv(\"Crop_recommendation.csv\")\n",
    "data.head()\n",
    "# N means nitrogen, P means phosphorous and k means potassium \n",
    "# they are given in kg/hector"
   ]
  },
  {
   "cell_type": "markdown",
   "metadata": {},
   "source": [
    "## Data Analysis\n",
    "There are total 2200 entries/rows and 8 columns\n",
    "Data doesnot contains any null value\n",
    "All input features are numerical columns except the target column, no need of encoding\n",
    "It is the problem of Classification.\n",
    "\n"
   ]
  },
  {
   "cell_type": "code",
   "execution_count": null,
   "metadata": {},
   "outputs": [],
   "source": [
    "print(data.columns)\n",
    "data['label'].value_counts()"
   ]
  },
  {
   "cell_type": "markdown",
   "metadata": {},
   "source": [
    "## Machine Learning"
   ]
  },
  {
   "cell_type": "markdown",
   "metadata": {},
   "source": [
    "### Data Splitting"
   ]
  },
  {
   "cell_type": "code",
   "execution_count": 17,
   "metadata": {},
   "outputs": [],
   "source": [
    "X=data.drop('label',axis=1)\n",
    "y=data['label']\n",
    "X_train,X_test,y_train,y_test=train_test_split(X,y, train_size=0.8,random_state=42)\n",
    "from sklearn.preprocessing import LabelEncoder\n",
    "le=LabelEncoder()\n",
    "data['labeled_y']=le.fit_transform(data['label'])\n",
    "\n"
   ]
  },
  {
   "cell_type": "markdown",
   "metadata": {},
   "source": [
    "### Selecting the best model based on cross validation score"
   ]
  },
  {
   "cell_type": "code",
   "execution_count": null,
   "metadata": {},
   "outputs": [],
   "source": [
    "predictor=CatBoostClassifier()\n",
    "predictor.fit(X_train,y_train)\n",
    "y_pred=predictor.predict(X_test)\n",
    "#generalization_Score=cross_val_score(predictor,X_test,y_test)\n",
    "#print('genralization score is ',generalization_Score.mean())\n",
    "print(\"accuracy score is \",accuracy_score(y_test,y_pred))\n",
    "print('Generalization score is ',cross_val_score(predictor,X,data['labeled_y']).mean())\n",
    "print(\"Classification report is \\n\",classification_report(y_test,y_pred))\n",
    "print(\"confusion_matrix\\n\",confusion_matrix(y_test,y_pred))\n",
    "\n",
    "\n"
   ]
  },
  {
   "cell_type": "code",
   "execution_count": null,
   "metadata": {},
   "outputs": [],
   "source": [
    "\n",
    "from sklearn.pipeline import Pipeline\n",
    "models={\n",
    "    ('Linear Regression',LogisticRegression(random_state=42)),\n",
    "    ('Decision Tree',DecisionTreeClassifier(random_state=42)),\n",
    "    ('Random Forest',RandomForestClassifier(random_state=42)),\n",
    "    ('Support Vector Machine',SVC(random_state=42)),\n",
    "    ('Xg boost',XGBClassifier(random_state=42)),\n",
    "    ('Naive Bayes',GaussianNB())\n",
    "}\n",
    "best_model_name=None,\n",
    "best_model=None\n",
    "best_accuracy=0\n",
    "best_val_score=0\n",
    "for name,model in models:\n",
    "    pipeline=Pipeline(\n",
    "        steps=[\n",
    "            (\"models\",model)\n",
    "        ]\n",
    "    )\n",
    "    accuracy=accuracy_score(y_test,y_pred)\n",
    "    cross_validation_score=cross_val_score(model,X,data['labeled_y'])\n",
    "    mean_accuracy=cross_validation_score.mean()\n",
    "    print(\"The name of the model is \",name)\n",
    "    print(\"The accuracy score of model is \",accuracy)\n",
    "    print(\"The generalization score of model is \",cross_validation_score.mean())\n",
    "    print(\" \")\n",
    "    \n",
    "    if  mean_accuracy>best_val_score:\n",
    "        best_model_name=name\n",
    "        best_accuracy=accuracy\n",
    "        best_model=model\n",
    "        best_val_score=cross_validation_score.mean()\n",
    "\n",
    "print(\"The name of best model is \",best_model_name)\n",
    "print(\"The accuracy score of best model is \",best_accuracy)\n",
    "print(\"The cross validation score of best model is \",best_val_score)\n",
    "print(\"The best model is \",best_model)\n",
    "\n",
    "best_model.fit(X_train,y_train)\n",
    "prediction=best_model.predict([[104,18,30,23.60301571,60.39647474,6.779832611000002,140.9370415]])[0]"
   ]
  },
  {
   "cell_type": "markdown",
   "metadata": {},
   "source": [
    "### Saving the best model"
   ]
  },
  {
   "cell_type": "code",
   "execution_count": 34,
   "metadata": {},
   "outputs": [],
   "source": [
    "import pickle \n",
    "pickle.dump(best_model,open(\"Crop_Recommendation_model.pkl\",'wb'))"
   ]
  }
 ],
 "metadata": {
  "kernelspec": {
   "display_name": "Python 3",
   "language": "python",
   "name": "python3"
  },
  "language_info": {
   "codemirror_mode": {
    "name": "ipython",
    "version": 3
   },
   "file_extension": ".py",
   "mimetype": "text/x-python",
   "name": "python",
   "nbconvert_exporter": "python",
   "pygments_lexer": "ipython3",
   "version": "3.12.3"
  }
 },
 "nbformat": 4,
 "nbformat_minor": 2
}
